{
 "cells": [
  {
   "cell_type": "markdown",
   "metadata": {},
   "source": [
    "## Python继承组合\n",
    "\n",
    "### 什么是继承？\n",
    "你父亲有的你也有，但你有的特有属性和方法你父亲就没有。\n",
    "\n",
    "### 1、 继承父类的属性与方法"
   ]
  },
  {
   "cell_type": "code",
   "execution_count": 1,
   "metadata": {},
   "outputs": [
    {
     "data": {
      "text/plain": [
       "{'BABA_Amount': 5400000}"
      ]
     },
     "execution_count": 1,
     "metadata": {},
     "output_type": "execute_result"
    }
   ],
   "source": [
    "class Stock:\n",
    "    def __init__(self,stockName, price, volume):\n",
    "        self.stockName=stockName\n",
    "        self.price = price\n",
    "        self.volume = volume\n",
    "    def calAmount(self):\n",
    "        return {self.stockName+'_Amount': self.price*self.volume}\n",
    "    \n",
    "class BABA(Stock):      #输入之前的类的名字\n",
    "    pass                #pass一下 即已继承\n",
    "\n",
    "b = BABA('BABA', 180, 30000).calAmount()\n",
    "b"
   ]
  },
  {
   "cell_type": "markdown",
   "metadata": {},
   "source": [
    "### 2、 属性覆盖\n"
   ]
  },
  {
   "cell_type": "code",
   "execution_count": 2,
   "metadata": {},
   "outputs": [
    {
     "ename": "TypeError",
     "evalue": "__init__() takes 1 positional argument but 4 were given",
     "output_type": "error",
     "traceback": [
      "\u001b[1;31m---------------------------------------------------------------------------\u001b[0m",
      "\u001b[1;31mTypeError\u001b[0m                                 Traceback (most recent call last)",
      "\u001b[1;32m<ipython-input-2-b56e000b9ea7>\u001b[0m in \u001b[0;36m<module>\u001b[1;34m\u001b[0m\n\u001b[0;32m      9\u001b[0m             \u001b[0mprint\u001b[0m\u001b[1;33m(\u001b[0m\u001b[1;34m'I don\"t have any cash'\u001b[0m\u001b[1;33m)\u001b[0m\u001b[1;33m\u001b[0m\u001b[1;33m\u001b[0m\u001b[0m\n\u001b[0;32m     10\u001b[0m \u001b[1;33m\u001b[0m\u001b[0m\n\u001b[1;32m---> 11\u001b[1;33m \u001b[0mbuy\u001b[0m\u001b[1;33m=\u001b[0m\u001b[0mBuyStock\u001b[0m\u001b[1;33m(\u001b[0m\u001b[1;34m'BABA'\u001b[0m\u001b[1;33m,\u001b[0m\u001b[1;36m200\u001b[0m\u001b[1;33m,\u001b[0m\u001b[1;36m20000\u001b[0m\u001b[1;33m)\u001b[0m\u001b[1;33m.\u001b[0m\u001b[0mcalAmount\u001b[0m\u001b[1;33m(\u001b[0m\u001b[1;33m)\u001b[0m\u001b[1;33m\u001b[0m\u001b[1;33m\u001b[0m\u001b[0m\n\u001b[0m",
      "\u001b[1;31mTypeError\u001b[0m: __init__() takes 1 positional argument but 4 were given"
     ]
    }
   ],
   "source": [
    "class BuyStock(Stock): \n",
    "    def __init__(self):          #报错：init只有一个参数却给了四个；初始化会把属性覆盖掉 前面的属性没有被继承\n",
    "        self.haveCapital = True\n",
    "    def buy(self):\n",
    "        if self.haveCapital == True:\n",
    "            print('I have cash to buy stock')\n",
    "            self.haveCapital = False\n",
    "        else:\n",
    "            print('I don\"t have any cash')\n",
    "\n",
    "buy=BuyStock('BABA',200,20000).calAmount()"
   ]
  },
  {
   "cell_type": "code",
   "execution_count": 13,
   "metadata": {},
   "outputs": [
    {
     "ename": "TypeError",
     "evalue": "__init__() takes 1 positional argument but 4 were given",
     "output_type": "error",
     "traceback": [
      "\u001b[1;31m---------------------------------------------------------------------------\u001b[0m",
      "\u001b[1;31mTypeError\u001b[0m                                 Traceback (most recent call last)",
      "\u001b[1;32m<ipython-input-13-f6400c774748>\u001b[0m in \u001b[0;36m<module>\u001b[1;34m\u001b[0m\n\u001b[0;32m     26\u001b[0m             \u001b[0mprint\u001b[0m\u001b[1;33m(\u001b[0m\u001b[1;34m\"I don't have any cash now\"\u001b[0m\u001b[1;33m)\u001b[0m\u001b[1;33m\u001b[0m\u001b[1;33m\u001b[0m\u001b[0m\n\u001b[0;32m     27\u001b[0m \u001b[1;33m\u001b[0m\u001b[0m\n\u001b[1;32m---> 28\u001b[1;33m \u001b[0mBuyMaxAmount\u001b[0m\u001b[1;33m(\u001b[0m\u001b[1;34m'TENCETN'\u001b[0m\u001b[1;33m,\u001b[0m \u001b[1;36m350\u001b[0m\u001b[1;33m,\u001b[0m \u001b[1;36m20000\u001b[0m\u001b[1;33m)\u001b[0m\u001b[1;33m.\u001b[0m\u001b[0mcalAmount\u001b[0m\u001b[1;33m(\u001b[0m\u001b[1;33m)\u001b[0m\u001b[1;33m\u001b[0m\u001b[1;33m\u001b[0m\u001b[0m\n\u001b[0m",
      "\u001b[1;31mTypeError\u001b[0m: __init__() takes 1 positional argument but 4 were given"
     ]
    }
   ],
   "source": [
    "class Stock:\n",
    "    def __init__(self,stockName, price, volume):\n",
    "        self.stockName=stockName\n",
    "        self.price = price\n",
    "        self.volume = volume\n",
    "    def calAmount(self):\n",
    "        return {self.stockName+'_Amount': self.price*self.volume}\n",
    "\n",
    "class BABA(Stock):\n",
    "    pass\n",
    "\n",
    "class TENCETN(Stock):\n",
    "    pass\n",
    "\n",
    "class BIDU(Stock):\n",
    "    pass\n",
    "\n",
    "class BuyMaxAmount(Stock):\n",
    "    def __init__(self):\n",
    "        self.haveCapital = True\n",
    "    def buy(self):\n",
    "        if self.haveCapital:\n",
    "            print('I have cash to buy stock')\n",
    "            self.haveCapital = False\n",
    "        else:\n",
    "            print(\"I don't have any cash now\")\n",
    "            \n",
    "BuyMaxAmount('TENCETN', 350, 20000).calAmount()"
   ]
  },
  {
   "cell_type": "markdown",
   "metadata": {},
   "source": [
    "### 3、 Super函数\n",
    "\n"
   ]
  },
  {
   "cell_type": "code",
   "execution_count": 8,
   "metadata": {},
   "outputs": [
    {
     "ename": "AttributeError",
     "evalue": "'dict' object has no attribute 'buy'",
     "output_type": "error",
     "traceback": [
      "\u001b[1;31m---------------------------------------------------------------------------\u001b[0m",
      "\u001b[1;31mAttributeError\u001b[0m                            Traceback (most recent call last)",
      "\u001b[1;32m<ipython-input-8-9aae6920647f>\u001b[0m in \u001b[0;36m<module>\u001b[1;34m\u001b[0m\n\u001b[0;32m     11\u001b[0m \u001b[1;33m\u001b[0m\u001b[0m\n\u001b[0;32m     12\u001b[0m \u001b[0mbuyStock\u001b[0m\u001b[1;33m=\u001b[0m\u001b[0mBuyStock\u001b[0m\u001b[1;33m(\u001b[0m\u001b[1;34m'BABA'\u001b[0m\u001b[1;33m,\u001b[0m\u001b[1;36m200\u001b[0m\u001b[1;33m,\u001b[0m\u001b[1;36m20000\u001b[0m\u001b[1;33m)\u001b[0m\u001b[1;33m.\u001b[0m\u001b[0mcalAmount\u001b[0m\u001b[1;33m(\u001b[0m\u001b[1;33m)\u001b[0m\u001b[1;33m\u001b[0m\u001b[1;33m\u001b[0m\u001b[0m\n\u001b[1;32m---> 13\u001b[1;33m \u001b[0mbuyStock\u001b[0m\u001b[1;33m.\u001b[0m\u001b[0mbuy\u001b[0m\u001b[1;33m\u001b[0m\u001b[1;33m\u001b[0m\u001b[0m\n\u001b[0m",
      "\u001b[1;31mAttributeError\u001b[0m: 'dict' object has no attribute 'buy'"
     ]
    }
   ],
   "source": [
    "class BuyStock(Stock): \n",
    "    def __init__(self,stockName, price, volume):  #初始化时要把本身的参数传进来\n",
    "        super().__init__(stockName, price, volume)  #即已继承属性(注：无self)\n",
    "        self.haveCapital = True\n",
    "    def buy(self):\n",
    "        if self.haveCapital == True:\n",
    "            print('I have cash to buy stock')\n",
    "            self.haveCapital = False\n",
    "        else:\n",
    "            print('I don\"t have any cash')\n",
    "\n",
    "buyStock=BuyStock('BABA',200,20000).calAmount()\n",
    "buyStock"
   ]
  },
  {
   "cell_type": "code",
   "execution_count": 11,
   "metadata": {},
   "outputs": [
    {
     "name": "stdout",
     "output_type": "stream",
     "text": [
      "I have cash to buy stock\n"
     ]
    }
   ],
   "source": [
    "buyStock=BuyStock('BABA',200,20000)\n",
    "buyStock.buy()"
   ]
  },
  {
   "cell_type": "code",
   "execution_count": 12,
   "metadata": {},
   "outputs": [
    {
     "name": "stdout",
     "output_type": "stream",
     "text": [
      "I don\"t have any cash\n"
     ]
    }
   ],
   "source": [
    "buyStock.buy()"
   ]
  },
  {
   "cell_type": "code",
   "execution_count": 5,
   "metadata": {},
   "outputs": [],
   "source": [
    "class Stock:\n",
    "    def __init__(self,stockName, price, volume):\n",
    "        self.stockName=stockName\n",
    "        self.price = price\n",
    "        self.volume = volume\n",
    "    def calAmount(self):\n",
    "        return {self.stockName+'_Amount': self.price*self.volume}\n",
    "\n",
    "class BABA(Stock):\n",
    "    pass\n",
    "\n",
    "class BuyAmount(Stock):\n",
    "    def __init__(self, stockName, price, volume):\n",
    "        self.haveCapital = True\n",
    "        super().__init__(stockName, price, volume)\n",
    "    def buy(self):\n",
    "        if self.haveCapital:\n",
    "            print('I have cash to buy stock')\n",
    "            self.haveCapital = False\n",
    "        else:\n",
    "            print(\"I don't have any cash now\")"
   ]
  },
  {
   "cell_type": "code",
   "execution_count": 6,
   "metadata": {},
   "outputs": [],
   "source": [
    "buyBABA = BuyAmount('BABA', 2500, 50000)"
   ]
  },
  {
   "cell_type": "code",
   "execution_count": 7,
   "metadata": {},
   "outputs": [
    {
     "name": "stdout",
     "output_type": "stream",
     "text": [
      "I have cash to buy stock\n"
     ]
    }
   ],
   "source": [
    "buyBABA.buy()"
   ]
  },
  {
   "cell_type": "markdown",
   "metadata": {},
   "source": [
    "### 4、 类组合应用"
   ]
  },
  {
   "cell_type": "code",
   "execution_count": 19,
   "metadata": {},
   "outputs": [
    {
     "data": {
      "text/plain": [
       "300"
      ]
     },
     "execution_count": 19,
     "metadata": {},
     "output_type": "execute_result"
    }
   ],
   "source": [
    "class StockA:\n",
    "    def __init__(self,price): #初始化\n",
    "        self.price = price\n",
    "\n",
    "class StockB:                #下一个类\n",
    "    def __init__(self, price):\n",
    "        self.price = price\n",
    "\n",
    "class TwoStock:              \n",
    "    def __init__(self, priceA, priceB):  #找两只股票的价格\n",
    "        self.priceA = StockA(priceA)\n",
    "        self.priceB = StockB(priceB)\n",
    "    def totalPrice(self):\n",
    "        return self.priceA.price + self.priceB.price\n",
    "\n",
    "calTwoStock = TwoStock(100,200)\n",
    "calTwoStock.totalPrice()\n",
    "    "
   ]
  },
  {
   "cell_type": "code",
   "execution_count": 9,
   "metadata": {},
   "outputs": [
    {
     "name": "stdout",
     "output_type": "stream",
     "text": [
      "StockA $ 220 , StockB $ 350 \n"
     ]
    }
   ],
   "source": [
    "def printStocks(self):\n",
    "        print('StockA $ %d , StockB $ %d '% (self.stockA.price, self.stockB.price))\n",
    "\n",
    "twoStock = TwoStock(220, 350)\n",
    "twoStock.printStocks()"
   ]
  },
  {
   "cell_type": "code",
   "execution_count": null,
   "metadata": {},
   "outputs": [],
   "source": []
  }
 ],
 "metadata": {
  "kernelspec": {
   "display_name": "Python 3",
   "language": "python",
   "name": "python3"
  },
  "language_info": {
   "codemirror_mode": {
    "name": "ipython",
    "version": 3
   },
   "file_extension": ".py",
   "mimetype": "text/x-python",
   "name": "python",
   "nbconvert_exporter": "python",
   "pygments_lexer": "ipython3",
   "version": "3.7.4"
  }
 },
 "nbformat": 4,
 "nbformat_minor": 2
}
